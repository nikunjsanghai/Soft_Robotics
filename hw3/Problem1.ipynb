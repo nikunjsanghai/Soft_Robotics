{
  "nbformat": 4,
  "nbformat_minor": 0,
  "metadata": {
    "colab": {
      "provenance": []
    },
    "kernelspec": {
      "name": "python3",
      "display_name": "Python 3"
    },
    "language_info": {
      "name": "python"
    }
  },
  "cells": [
    {
      "cell_type": "code",
      "execution_count": 17,
      "metadata": {
        "id": "loIShgzj2wO9"
      },
      "outputs": [],
      "source": [
        "import torch\n",
        "import torch.nn as nn\n",
        "import torch.optim as optim\n",
        "import numpy as np\n",
        "from torch.utils.data import Dataset, DataLoader\n",
        "from sklearn.model_selection import train_test_split\n",
        "\n",
        "device = torch.device('cuda:' + str(gpu) if torch.cuda.is_available() else 'cpu')\n",
        "# Print whether CPU or GPU is used.\n",
        "device = torch.device(\"cuda:0\")\n"
      ]
    },
    {
      "cell_type": "markdown",
      "source": [
        "## **Populate the Data for m, k1, k2, x, and y**"
      ],
      "metadata": {
        "id": "dzvcv4of-5pk"
      }
    },
    {
      "cell_type": "code",
      "source": [
        "m = np.random.uniform(0,1,(1,100000)) \n",
        "k1 = np.random.uniform(0,1,(1,100000))\n",
        "k2 = k1\n",
        "g=9.81\n",
        "term = m * g / (k1 + k2)\n",
        "posy =  np.sqrt( term ** 2 + term)# fill in the blank\n",
        "posx =  0.5 * np.ones((1, 100000))# fill in the blank"
      ],
      "metadata": {
        "id": "hc5dZtWc29Pe"
      },
      "execution_count": 18,
      "outputs": []
    },
    {
      "cell_type": "code",
      "source": [
        "m_test = np.random.uniform(0,1,(1,100000))\n",
        "k1_test = np.random.uniform(0,1,(1,100000))\n",
        "k2_test = k1_test\n",
        "g = 9.81\n",
        "term = m * g / (k1_test + k2_test)\n",
        "posy_test = np.sqrt( term ** 2 + term)  # fill in the blank\n",
        "posx_test = 0.5 * np.ones((1, 100000)) # fill in the blank"
      ],
      "metadata": {
        "id": "OAlgf7ytAsTH"
      },
      "execution_count": 19,
      "outputs": []
    },
    {
      "cell_type": "code",
      "source": [
        "class Data(Dataset):\n",
        "    def __init__(self, X, y):\n",
        "        self.X = torch.from_numpy(X.astype(np.float32))\n",
        "        self.y = torch.from_numpy(y.astype(np.float32))\n",
        "        self.len = self.X.shape[0]\n",
        "       \n",
        "    def __getitem__(self, index):\n",
        "        return self.X[index], self.y[index]\n",
        "   \n",
        "    def __len__(self):\n",
        "        return self.len"
      ],
      "metadata": {
        "id": "lTERA7X3_Ig-"
      },
      "execution_count": 20,
      "outputs": []
    },
    {
      "cell_type": "code",
      "source": [
        "batch_size = 1000 #Choose your own batch size"
      ],
      "metadata": {
        "id": "J4zhEBtC-qsN"
      },
      "execution_count": 21,
      "outputs": []
    },
    {
      "cell_type": "code",
      "source": [
        "data_input = np.column_stack(np.concatenate([k1, k2, posx, posy]))  # Fill in the input data format size : ()\n",
        "data_output = np.transpose(m) \n",
        "data_input_test = np.column_stack(np.concatenate([k1_test, k2_test, posx_test, posy_test]))   # Fill in the input data format size : ()\n",
        "data_output_test =np.transpose(m_test) "
      ],
      "metadata": {
        "id": "TJLeSxrlAcFb"
      },
      "execution_count": 22,
      "outputs": []
    },
    {
      "cell_type": "code",
      "source": [
        "train_data = Data(data_input, data_output)\n",
        "train_set = DataLoader(dataset=train_data, batch_size=batch_size, shuffle=True)\n",
        "\n",
        "test_data = Data(data_input_test, data_output_test)\n",
        "test_set = DataLoader(dataset=test_data, batch_size=batch_size, shuffle=True)"
      ],
      "metadata": {
        "id": "QQ-K7AAL-1vd"
      },
      "execution_count": 23,
      "outputs": []
    },
    {
      "cell_type": "code",
      "source": [
        "from torch.autograd import Variable\n",
        "input_size = 4 # fill in the blank. \n",
        "hidden_layer_size = 10 # fill in the blank. \n",
        "learning_rate = 0.05 # fill in the blank. \n",
        "num_epochs = 100 # fill in the blank. \n",
        "class RegressionModel(nn.Module):\n",
        "\n",
        "    def __init__(self, input_size, hidden_size):\n",
        "        super(RegressionModel, self).__init__()\n",
        "        self.dense_h1 = nn.Linear(in_features=input_size, out_features=hidden_size) \n",
        "        self.relu_h1 = nn.ReLU()# choose your own activation function\n",
        "        self.dense_h2 = nn.Linear(in_features=hidden_size, out_features=hidden_size)  \n",
        "        self.relu_h2 = nn.ReLU() # choose your own activation function\n",
        "        self.dropout = nn.Dropout(p=0.5)\n",
        "        self.dense_out = nn.Linear(in_features=hidden_size, out_features=1)\n",
        "\n",
        "    def forward(self, X):\n",
        "\n",
        "        out = self.relu_h1(self.dense_h1(X))\n",
        "        out = self.relu_h2(self.dense_h2(out))\n",
        "        out = self.dropout(out)\n",
        "        out = self.dense_out(out)\n",
        "\n",
        "        return out\n",
        "\n",
        "m = RegressionModel(input_size=input_size, hidden_size=hidden_layer_size)\n",
        "\n",
        "cost_func = nn.MSELoss()\n",
        "optimizer = torch.optim.Adam(m.parameters(), lr=learning_rate) \n",
        "\n",
        "all_losses = []\n",
        "for e in range(num_epochs):\n",
        "    batch_losses = []\n",
        "\n",
        "    for ix, (Xb, yb) in enumerate(train_set):\n",
        "\n",
        "        _X = Variable(Xb).float()\n",
        "        _y = Variable(yb).float()\n",
        "\n",
        "        #==========Forward pass===============\n",
        "\n",
        "        preds = m(_X)\n",
        "        loss = cost_func(preds, _y)\n",
        "\n",
        "        #==========backward pass==============\n",
        "\n",
        "        optimizer.zero_grad()\n",
        "        loss.backward()\n",
        "        optimizer.step()\n",
        "\n",
        "        batch_losses.append(loss.data)\n",
        "        all_losses.append(loss.data)\n",
        "\n",
        "    mbl = np.mean(np.sqrt(batch_losses)).round(3)\n",
        "\n",
        "    if e % 5 == 0:\n",
        "        print(\"Epoch [{}/{}], Batch loss: {}\".format(e, num_epochs, mbl))\n",
        "\n",
        "# prepares model for inference when trained with a dropout layer\n",
        "print(m.training)\n",
        "m.eval()\n",
        "print(m.training)\n",
        "\n",
        "test_batch_losses = []\n",
        "for _X, _y in test_set:\n",
        "\n",
        "    _X = Variable(_X).float()\n",
        "    _y = Variable(_y).float()\n",
        "\n",
        "    #apply model\n",
        "    test_preds = m(_X)\n",
        "    test_loss = cost_func(test_preds, _y)\n",
        "\n",
        "    test_batch_losses.append(test_loss.data)\n",
        "    print(\"Batch loss: {}\".format(test_loss.data))"
      ],
      "metadata": {
        "colab": {
          "base_uri": "https://localhost:8080/"
        },
        "id": "uW7-y17kLgTO",
        "outputId": "fbefb27d-cd6d-456c-84e4-8ad702d51c7c"
      },
      "execution_count": 24,
      "outputs": [
        {
          "output_type": "stream",
          "name": "stdout",
          "text": [
            "Epoch [0/100], Batch loss: 6.22599983215332\n",
            "Epoch [5/100], Batch loss: 0.24799999594688416\n",
            "Epoch [10/100], Batch loss: 0.2460000067949295\n",
            "Epoch [15/100], Batch loss: 0.24400000274181366\n",
            "Epoch [20/100], Batch loss: 0.24400000274181366\n",
            "Epoch [25/100], Batch loss: 0.24400000274181366\n",
            "Epoch [30/100], Batch loss: 0.24400000274181366\n",
            "Epoch [35/100], Batch loss: 0.24400000274181366\n",
            "Epoch [40/100], Batch loss: 0.24300000071525574\n",
            "Epoch [45/100], Batch loss: 0.24199999868869781\n",
            "Epoch [50/100], Batch loss: 0.24300000071525574\n",
            "Epoch [55/100], Batch loss: 0.24300000071525574\n",
            "Epoch [60/100], Batch loss: 0.24300000071525574\n",
            "Epoch [65/100], Batch loss: 0.24199999868869781\n",
            "Epoch [70/100], Batch loss: 0.24300000071525574\n",
            "Epoch [75/100], Batch loss: 0.24300000071525574\n",
            "Epoch [80/100], Batch loss: 0.24300000071525574\n",
            "Epoch [85/100], Batch loss: 0.24300000071525574\n",
            "Epoch [90/100], Batch loss: 0.24199999868869781\n",
            "Epoch [95/100], Batch loss: 0.24300000071525574\n",
            "True\n",
            "False\n",
            "Batch loss: 0.09337511658668518\n",
            "Batch loss: 0.09286325424909592\n",
            "Batch loss: 0.09400773793458939\n",
            "Batch loss: 0.09131795167922974\n",
            "Batch loss: 0.09340649098157883\n",
            "Batch loss: 0.09358077496290207\n",
            "Batch loss: 0.08650439977645874\n",
            "Batch loss: 0.09229452908039093\n",
            "Batch loss: 0.09236500412225723\n",
            "Batch loss: 0.09103856980800629\n",
            "Batch loss: 0.091115303337574\n",
            "Batch loss: 0.08982226252555847\n",
            "Batch loss: 0.09408006072044373\n",
            "Batch loss: 0.0947510376572609\n",
            "Batch loss: 0.09607262909412384\n",
            "Batch loss: 0.09064274281263351\n",
            "Batch loss: 0.09007338434457779\n",
            "Batch loss: 0.092770516872406\n",
            "Batch loss: 0.08781381696462631\n",
            "Batch loss: 0.09190771728754044\n",
            "Batch loss: 0.09307824820280075\n",
            "Batch loss: 0.09684807062149048\n",
            "Batch loss: 0.09131398797035217\n",
            "Batch loss: 0.08848496526479721\n",
            "Batch loss: 0.09347039461135864\n",
            "Batch loss: 0.09012433141469955\n",
            "Batch loss: 0.09016454219818115\n",
            "Batch loss: 0.09473828971385956\n",
            "Batch loss: 0.09515687078237534\n",
            "Batch loss: 0.09600807726383209\n",
            "Batch loss: 0.09311792254447937\n",
            "Batch loss: 0.09873110800981522\n",
            "Batch loss: 0.09269872307777405\n",
            "Batch loss: 0.09281258285045624\n",
            "Batch loss: 0.0879557728767395\n",
            "Batch loss: 0.08842666447162628\n",
            "Batch loss: 0.09195210784673691\n",
            "Batch loss: 0.09462598711252213\n",
            "Batch loss: 0.09026113897562027\n",
            "Batch loss: 0.09446762502193451\n",
            "Batch loss: 0.0953199565410614\n",
            "Batch loss: 0.08668483793735504\n",
            "Batch loss: 0.08713432401418686\n",
            "Batch loss: 0.08868585526943207\n",
            "Batch loss: 0.09441572427749634\n",
            "Batch loss: 0.09410806745290756\n",
            "Batch loss: 0.09348025918006897\n",
            "Batch loss: 0.08716963231563568\n",
            "Batch loss: 0.09591232985258102\n",
            "Batch loss: 0.09011724591255188\n",
            "Batch loss: 0.09124024957418442\n",
            "Batch loss: 0.0913270115852356\n",
            "Batch loss: 0.0955619290471077\n",
            "Batch loss: 0.09480373561382294\n",
            "Batch loss: 0.09029338508844376\n",
            "Batch loss: 0.09022238105535507\n",
            "Batch loss: 0.0874217078089714\n",
            "Batch loss: 0.09381631016731262\n",
            "Batch loss: 0.09016812592744827\n",
            "Batch loss: 0.08953287452459335\n",
            "Batch loss: 0.08905132114887238\n",
            "Batch loss: 0.09070637077093124\n",
            "Batch loss: 0.09464843571186066\n",
            "Batch loss: 0.09560751169919968\n",
            "Batch loss: 0.09241706132888794\n",
            "Batch loss: 0.09407656639814377\n",
            "Batch loss: 0.09032361954450607\n",
            "Batch loss: 0.09192914515733719\n",
            "Batch loss: 0.08883151412010193\n",
            "Batch loss: 0.09855609387159348\n",
            "Batch loss: 0.09298697113990784\n",
            "Batch loss: 0.09189965575933456\n",
            "Batch loss: 0.09265367686748505\n",
            "Batch loss: 0.08962894231081009\n",
            "Batch loss: 0.09075074642896652\n",
            "Batch loss: 0.094632588326931\n",
            "Batch loss: 0.09207002073526382\n",
            "Batch loss: 0.09252536296844482\n",
            "Batch loss: 0.0923875942826271\n",
            "Batch loss: 0.09359069913625717\n",
            "Batch loss: 0.09390507638454437\n",
            "Batch loss: 0.08844060450792313\n",
            "Batch loss: 0.09449189901351929\n",
            "Batch loss: 0.09220008552074432\n",
            "Batch loss: 0.0922950878739357\n",
            "Batch loss: 0.09365257620811462\n",
            "Batch loss: 0.08905018121004105\n",
            "Batch loss: 0.09040748327970505\n",
            "Batch loss: 0.09139005094766617\n",
            "Batch loss: 0.08711037784814835\n",
            "Batch loss: 0.08837258815765381\n",
            "Batch loss: 0.0973716527223587\n",
            "Batch loss: 0.0943681076169014\n",
            "Batch loss: 0.09382355213165283\n",
            "Batch loss: 0.0940910056233406\n",
            "Batch loss: 0.09374446421861649\n",
            "Batch loss: 0.08833325654268265\n",
            "Batch loss: 0.09370921552181244\n",
            "Batch loss: 0.09081573784351349\n",
            "Batch loss: 0.09281843155622482\n"
          ]
        }
      ]
    },
    {
      "cell_type": "code",
      "source": [
        "from matplotlib import pyplot as plt\n",
        "fig, ax = plt.subplots(figsize=(8,5))\n",
        "plt.plot(np.array(all_losses))\n",
        "plt.title(\"Step-wise Loss\")\n",
        "plt.xlabel(\"Epochs\")\n",
        "plt.ylabel(\"Loss\")\n",
        "plt.show()"
      ],
      "metadata": {
        "id": "MDyYW52_8rOm",
        "colab": {
          "base_uri": "https://localhost:8080/",
          "height": 350
        },
        "outputId": "1ae9b4ae-2532-4f0b-d4c5-a932ab4d3395"
      },
      "execution_count": 25,
      "outputs": [
        {
          "output_type": "display_data",
          "data": {
            "text/plain": [
              "<Figure size 576x360 with 1 Axes>"
            ],
            "image/png": "[encoded data removed]"
          },
          "metadata": {
            "needs_background": "light"
          }
        }
      ]
    },
    {
      "cell_type": "code",
      "source": [
        "# test_dataloader = DataLoader(dataset=test_data, batch_size=batch_size, shuffle=True)\n",
        "# result = model(X)\n",
        "# print(y)"
      ],
      "metadata": {
        "id": "3ihpvYBqJ0EA"
      },
      "execution_count": 26,
      "outputs": []
    },
    {
      "cell_type": "code",
      "source": [
        "print(np.mean(test_batch_losses))"
      ],
      "metadata": {
        "id": "MVmQVs-lKODQ",
        "colab": {
          "base_uri": "https://localhost:8080/"
        },
        "outputId": "b9ec6dea-e8ec-4f0e-e2d4-69c202d2e805"
      },
      "execution_count": 27,
      "outputs": [
        {
          "output_type": "stream",
          "name": "stdout",
          "text": [
            "0.09211322\n"
          ]
        }
      ]
    }
  ]
}