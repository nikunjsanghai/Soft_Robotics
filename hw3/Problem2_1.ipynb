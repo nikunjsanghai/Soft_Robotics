{
  "cells": [
    {
      "cell_type": "code",
      "execution_count": null,
      "metadata": {
        "colab": {
          "base_uri": "https://localhost:8080/"
        },
        "id": "UyejcgKlkjpv",
        "outputId": "a23e5c1b-4472-4618-c541-5295e3976703"
      },
      "outputs": [
        {
          "output_type": "stream",
          "name": "stdout",
          "text": [
            "Looking in indexes: https://pypi.org/simple, https://us-python.pkg.dev/colab-wheels/public/simple/\n",
            "Collecting torchdiffeq\n",
            "  Downloading torchdiffeq-0.2.3-py3-none-any.whl (31 kB)\n",
            "Requirement already satisfied: torch>=1.3.0 in /usr/local/lib/python3.7/dist-packages (from torchdiffeq) (1.12.1+cu113)\n",
            "Requirement already satisfied: scipy>=1.4.0 in /usr/local/lib/python3.7/dist-packages (from torchdiffeq) (1.7.3)\n",
            "Requirement already satisfied: numpy<1.23.0,>=1.16.5 in /usr/local/lib/python3.7/dist-packages (from scipy>=1.4.0->torchdiffeq) (1.21.6)\n",
            "Requirement already satisfied: typing-extensions in /usr/local/lib/python3.7/dist-packages (from torch>=1.3.0->torchdiffeq) (4.1.1)\n",
            "Installing collected packages: torchdiffeq\n",
            "Successfully installed torchdiffeq-0.2.3\n"
          ]
        }
      ],
      "source": [
        "# Import dependencies\n",
        "!pip install torchdiffeq\n",
        "import argparse\n",
        "import time\n",
        "import numpy as np\n",
        "import torchdiffeq\n",
        "import torch\n",
        "import torch.nn as nn\n",
        "import torch.optim as optim\n",
        "import scipy.io as sio\n",
        "import matplotlib.pyplot as plt\n",
        "from numpy import zeros, newaxis\n",
        "import random\n",
        "import torch.nn.functional as F\n",
        "# Adjoint method is not necessary for \n",
        "adjoint = False\n",
        "if adjoint:\n",
        "    from torchdiffeq import odeint_adjoint as odeint\n",
        "else:\n",
        "    from torchdiffeq import odeint\n",
        "\n",
        "device = torch.device('cuda:' + str(gpu) if torch.cuda.is_available() else 'cpu')\n",
        "# Print whether CPU or GPU is used.\n"
      ]
    },
    {
      "cell_type": "code",
      "execution_count": null,
      "metadata": {
        "colab": {
          "base_uri": "https://localhost:8080/"
        },
        "id": "jSj4cIufZY8M",
        "outputId": "a3f62abc-8d03-4247-a726-d1e776849acf"
      },
      "outputs": [
        {
          "output_type": "stream",
          "name": "stdout",
          "text": [
            "Mounted at /content/drive/\n",
            "[7, 11, 3, 10, 6, 16]\n",
            "[ 1  2  4  5  8  9 12 13 14 15 17 18 19]\n",
            "(2562, 3)\n",
            "(1183, 1)\n",
            "(2561, 3)\n",
            "(2561, 1)\n",
            "(1182, 3)\n",
            "(1182, 1)\n"
          ]
        }
      ],
      "source": [
        "from google.colab import drive\n",
        "drive.mount('/content/drive/')\n",
        "\n",
        "tlength =   3 # fill in the blank Length of time sections\n",
        "rangemax = 20  ## No. of initial conditions\n",
        "timemax = 200-tlength ## length of each time series\n",
        "intest = random.sample(range(1,rangemax), 6) ## index for test data\n",
        "intrain = np.setdiff1d(range(1,rangemax),intest) ## index for training data\n",
        "\n",
        "print(intest)\n",
        "print(intrain)\n",
        "Xtrain = np.array([0,0,0])\n",
        "Xtest = np.array([0,0,0])\n",
        "Xall = np.array([0,0,0])\n",
        "Ytrain = np.array([0])\n",
        "Ytest = np.array([0])\n",
        "Yall = np.array([0])\n",
        "intrain = 0\n",
        "for iter in range(1,rangemax):\n",
        "  randstring = str(iter)\n",
        "  image_array= sio.loadmat('/content/drive/My Drive/Colab_Notebooks/Q2data/theta_'+randstring+'.mat')\n",
        "  thetaall= image_array['thetaoutall']\n",
        "\n",
        "  for ii in range(0,timemax):\n",
        "    Xall = np.vstack([Xall,thetaall[0,ii:ii+tlength]])\n",
        "    Yall = np.vstack([Yall,thetaall[0,ii+tlength]])\n",
        "    if iter in intest:\n",
        "      Xtest = np.vstack([Xtest,thetaall[0,ii:ii+tlength]])\n",
        "      Ytest = np.vstack([Ytest,thetaall[0,ii+tlength]])\n",
        "    else:\n",
        "\n",
        "      Xtrain = np.vstack([Xtrain,thetaall[0,ii:ii+tlength]])\n",
        "      Ytrain = np.vstack([Ytrain,thetaall[0,ii+tlength]])\n",
        "print(Xtrain.shape)\n",
        "print(Ytest.shape)\n",
        "\n",
        "Xtest = Xtest[1:,:]\n",
        "Ytest = Ytest[1:,:]\n",
        "Xtrain = Xtrain[1:,:]\n",
        "Ytrain = Ytrain[1:,:]\n",
        "Xall = Xall[1:,:]\n",
        "Yall = Yall[1:,:]\n",
        "\n",
        "## Let's check the data size\n",
        "print(Xtrain.shape)\n",
        "print(Ytrain.shape)\n",
        "print(Xtest.shape)\n",
        "print(Ytest.shape)"
      ]
    },
    {
      "cell_type": "code",
      "execution_count": null,
      "metadata": {
        "colab": {
          "base_uri": "https://localhost:8080/"
        },
        "id": "rcW_kAfcxME3",
        "outputId": "95b43399-fe11-422e-d4dd-6a227dad265b"
      },
      "outputs": [
        {
          "output_type": "stream",
          "name": "stdout",
          "text": [
            "torch.Size([2561, 3])\n",
            "torch.Size([2561, 1])\n",
            "torch.Size([1182, 3])\n",
            "torch.Size([1182, 1])\n"
          ]
        }
      ],
      "source": [
        "## TRANSFORM TO PYTORCH TENSOR\n",
        "\n",
        "\n",
        "xtrain = torch.from_numpy(Xtrain).requires_grad_(True)\n",
        "xtest = torch.from_numpy(Xtest).requires_grad_(True)\n",
        "\n",
        "ytrain = torch.from_numpy(Ytrain).requires_grad_(True)\n",
        "ytest = torch.from_numpy(Ytest).requires_grad_(True)\n",
        "print(xtrain.shape)\n",
        "print(ytrain.shape)\n",
        "print(xtest.shape)\n",
        "print(ytest.shape)"
      ]
    },
    {
      "cell_type": "code",
      "execution_count": null,
      "metadata": {
        "colab": {
          "base_uri": "https://localhost:8080/"
        },
        "id": "6dS1POtrxQDF",
        "outputId": "48e2c0df-1c99-4989-8382-2a3674bb6ce3"
      },
      "outputs": [
        {
          "output_type": "stream",
          "name": "stdout",
          "text": [
            "Net(\n",
            "  (fc1): Linear(in_features=3, out_features=5, bias=True)\n",
            "  (fc2): Linear(in_features=5, out_features=5, bias=True)\n",
            "  (fc3): Linear(in_features=5, out_features=5, bias=True)\n",
            "  (fc4): Linear(in_features=5, out_features=1, bias=True)\n",
            ")\n"
          ]
        }
      ],
      "source": [
        "class Net(nn.Module):\n",
        "    def __init__(self):\n",
        "        super().__init__()\n",
        "        numhid=5 ## fill in the blank, number of hidden layer\n",
        "        self.fc1 = nn.Linear(tlength, numhid) ## Applies a linear transformation to the incoming data, fully connected\n",
        "        self.fc2 = nn.Linear(numhid, numhid)\n",
        "        self.fc3 = nn.Linear(numhid, numhid)\n",
        "        self.fc4 = nn.Linear(numhid, 1)\n",
        "        \n",
        "    def forward(self, x):\n",
        "        x = F.relu(self.fc1(x))\n",
        "        x = F.relu(self.fc2(x))\n",
        "        x = F.relu(self.fc3(x))\n",
        "        x = self.fc4(x)\n",
        "        return x\n",
        "\n",
        "net = Net()\n",
        "print(net)"
      ]
    },
    {
      "cell_type": "markdown",
      "metadata": {
        "id": "3V7wm05JmlQL"
      },
      "source": [
        "Select smaller sizes"
      ]
    },
    {
      "cell_type": "code",
      "execution_count": null,
      "metadata": {
        "colab": {
          "base_uri": "https://localhost:8080/"
        },
        "id": "LVdXt3c4oJyk",
        "outputId": "0752fbb2-a8ec-4b0b-e104-cbd602ca310e"
      },
      "outputs": [
        {
          "output_type": "stream",
          "name": "stdout",
          "text": [
            "torch.Size([2561, 3])\n"
          ]
        }
      ],
      "source": [
        "print(xtrain.shape)"
      ]
    },
    {
      "cell_type": "code",
      "execution_count": null,
      "metadata": {
        "id": "fhnwr9sOxUr3"
      },
      "outputs": [],
      "source": [
        "batch_size = 32\n",
        "train = torch.utils.data.TensorDataset(xtrain,ytrain)\n",
        "train_loader = torch.utils.data.DataLoader(train, batch_size= batch_size, shuffle=False)# fill in the blank, batch size\n",
        "\n",
        "train = torch.utils.data.TensorDataset(xtest,ytest)\n",
        "train_loader = torch.utils.data.DataLoader(train, batch_size=batch_size , shuffle=False)"
      ]
    },
    {
      "cell_type": "code",
      "execution_count": null,
      "metadata": {
        "id": "1duA5-2BpHL_"
      },
      "outputs": [],
      "source": [
        "import torch.optim as optim\n",
        "\n",
        "loss_function = nn.MSELoss()\n",
        "epochs = 100\n",
        "lr = 0.005\n",
        "optimizer = optim.Adam(net.parameters(), lr=lr,  weight_decay=1e-5) # fill in the blank, lr is the learning rate\n",
        "lossall_train=[]\n",
        "for epoch in range(epochs ): #fill in the blank, number of full passes over the data\n",
        "    for data in train_loader:  # data is a batch of data\n",
        "        X, y = data  # X is the batch of features, y is the batch of targets.\n",
        "        net.zero_grad()  # sets gradients to 0 before loss calc. You will do this likely every step.\n",
        "        output = net(X.float())  # pass in the reshaped batch \n",
        "        loss = loss_function(output, y.float())  # loss value Cross entropy loss\n",
        "\n",
        "        loss.backward()  # apply this loss backwards thru the network's parameters\n",
        "        \n",
        "        optimizer.step()  # attempt to optimize weights to account for loss/gradients \n",
        "    lossall_train=lossall_train+[loss.detach().numpy()]\n",
        "    \n",
        "    #print(loss)  # print loss. We hope loss (a measure of wrong-ness) declines! "
      ]
    },
    {
      "cell_type": "markdown",
      "metadata": {
        "id": "lVfiHRLyr0OS"
      },
      "source": [
        "Let's check the loss"
      ]
    },
    {
      "cell_type": "code",
      "execution_count": null,
      "metadata": {
        "colab": {
          "base_uri": "https://localhost:8080/",
          "height": 282
        },
        "id": "5HUy9EBvruuX",
        "outputId": "07b2f70a-30b2-4c81-b8ca-b49ba2108bca"
      },
      "outputs": [
        {
          "output_type": "execute_result",
          "data": {
            "text/plain": [
              "[<matplotlib.lines.Line2D at 0x7ff741c56f50>]"
            ]
          },
          "metadata": {},
          "execution_count": 8
        },
        {
          "output_type": "display_data",
          "data": {
            "text/plain": [
              "<Figure size 432x288 with 1 Axes>"
            ],
            "image/png": "[encoded data removed]"
          },
          "metadata": {
            "needs_background": "light"
          }
        }
      ],
      "source": [
        "plt.plot(lossall_train)"
      ]
    },
    {
      "cell_type": "markdown",
      "metadata": {
        "id": "EZKH77_vr3q_"
      },
      "source": [
        "Finally, let's check the predicted value"
      ]
    },
    {
      "cell_type": "code",
      "execution_count": null,
      "metadata": {
        "id": "KZJBj-Usry6V"
      },
      "outputs": [],
      "source": [
        "ypred = net(xtest.float())\n"
      ]
    },
    {
      "cell_type": "code",
      "execution_count": null,
      "metadata": {
        "colab": {
          "base_uri": "https://localhost:8080/",
          "height": 296
        },
        "id": "Ku3v62gar7_h",
        "outputId": "90acaafb-16a8-404e-a0cb-e5a55e874af1"
      },
      "outputs": [
        {
          "output_type": "execute_result",
          "data": {
            "text/plain": [
              "tensor(1.4202e-05, dtype=torch.float64, grad_fn=<MseLossBackward0>)"
            ]
          },
          "metadata": {},
          "execution_count": 11
        },
        {
          "output_type": "display_data",
          "data": {
            "text/plain": [
              "<Figure size 432x288 with 1 Axes>"
            ],
            "image/png": "[encoded data removed]"
          },
          "metadata": {
            "needs_background": "light"
          }
        }
      ],
      "source": [
        "plt.plot(ytest.detach().numpy(),ypred.detach().numpy() ,'o')\n",
        "plt.plot([np.min(ytest.detach().numpy())*.9,np.max(ytest.detach().numpy())*1.1],[np.min(ytest.detach().numpy())*.9,np.max(ytest.detach().numpy())*1.1])\n",
        "plt.xlabel('Measurement')\n",
        "plt.ylabel('Prediction')\n",
        "loss_function(ypred, ytest)"
      ]
    }
  ],
  "metadata": {
    "colab": {
      "provenance": []
    },
    "kernelspec": {
      "display_name": "Python 3",
      "name": "python3"
    },
    "language_info": {
      "name": "python"
    }
  },
  "nbformat": 4,
  "nbformat_minor": 0
}